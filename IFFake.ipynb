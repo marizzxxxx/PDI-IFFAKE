{
  "cells": [
    {
      "cell_type": "markdown",
      "metadata": {
        "id": "view-in-github",
        "colab_type": "text"
      },
      "source": [
        "<a href=\"https://colab.research.google.com/github/marizzxxxx/PDI-IFFAKE/blob/main/IFFake.ipynb\" target=\"_parent\"><img src=\"https://colab.research.google.com/assets/colab-badge.svg\" alt=\"Open In Colab\"/></a>"
      ]
    },
    {
      "cell_type": "code",
      "execution_count": null,
      "metadata": {
        "id": "K7ZSoXSLJtmk"
      },
      "outputs": [],
      "source": [
        "!pip install gradio Pillow facenet-pytorch==2.5.2 torch==2.1.0 opencv-python grad-cam pip install matplotlib"
      ]
    },
    {
      "cell_type": "code",
      "execution_count": 2,
      "metadata": {
        "id": "JUKSD5kaJwDH"
      },
      "outputs": [],
      "source": [
        "import gradio as gr\n",
        "import torch\n",
        "import torch.nn.functional as F\n",
        "from facenet_pytorch import MTCNN, InceptionResnetV1\n",
        "import os\n",
        "import numpy as np\n",
        "from PIL import Image\n",
        "import zipfile\n",
        "import cv2\n",
        "from pytorch_grad_cam import GradCAM\n",
        "from pytorch_grad_cam.utils.model_targets import ClassifierOutputTarget\n",
        "from pytorch_grad_cam.utils.image import show_cam_on_image"
      ]
    },
    {
      "cell_type": "code",
      "execution_count": null,
      "metadata": {
        "id": "PfhfJ4iJJxvc"
      },
      "outputs": [],
      "source": [
        "with zipfile.ZipFile(\"//content/drive/MyDrive/PDI/PDI1/examples.zip\",\"r\") as zip_ref:\n",
        "    zip_ref.extractall(\".\")\n",
        "\n",
        "DEVICE = 'cuda:0' if torch.cuda.is_available() else 'cpu'\n",
        "\n",
        "mtcnn = MTCNN(\n",
        "    select_largest=False,\n",
        "    post_process=False,\n",
        "    device=DEVICE\n",
        ").to(DEVICE).eval()\n",
        "\n",
        "model = InceptionResnetV1(\n",
        "    pretrained=\"vggface2\",\n",
        "    classify=True,\n",
        "    num_classes=1,\n",
        "    device=DEVICE\n",
        ")\n",
        "\n",
        "checkpoint = torch.load(\"/content/drive/MyDrive/PDI/PDI2/resnetinceptionv1_epoch_32.pth\", map_location=torch.device('cpu'))\n",
        "model.load_state_dict(checkpoint['model_state_dict'])\n",
        "model.to(DEVICE)\n",
        "model.eval()"
      ]
    },
    {
      "cell_type": "code",
      "execution_count": 4,
      "metadata": {
        "id": "5koIXlM8KvBY"
      },
      "outputs": [],
      "source": [
        "def predict(input_image:Image.Image, true_label:str):\n",
        "\n",
        "    face = mtcnn(input_image)\n",
        "    if face is None:\n",
        "        raise Exception('No face detected')\n",
        "    face = face.unsqueeze(0) # add the batch dimension\n",
        "    face = F.interpolate(face, size=(256, 256), mode='bilinear', align_corners=False)\n",
        "\n",
        "    prev_face = face.squeeze(0).permute(1, 2, 0).cpu().detach().int().numpy()\n",
        "    prev_face = prev_face.astype('uint8')\n",
        "\n",
        "    face = face.to(DEVICE)\n",
        "    face = face.to(torch.float32)\n",
        "    face = face / 255.0\n",
        "    face_image_to_plot = face.squeeze(0).permute(1, 2, 0).cpu().detach().int().numpy()\n",
        "\n",
        "    target_layers=[model.block8.branch1[-1]]\n",
        "    cam = GradCAM(model=model, target_layers=target_layers)\n",
        "    targets = [ClassifierOutputTarget(0)]\n",
        "\n",
        "    grayscale_cam = cam(input_tensor=face, targets=targets, eigen_smooth=True)\n",
        "    grayscale_cam = grayscale_cam[0, :]\n",
        "    visualization = show_cam_on_image(face_image_to_plot, grayscale_cam, use_rgb=True)\n",
        "    face_with_mask = cv2.addWeighted(prev_face, 1, visualization, 0.5, 0)\n",
        "\n",
        "    with torch.no_grad():\n",
        "        output = torch.sigmoid(model(face).squeeze(0))\n",
        "        prediction = \"real\" if output.item() < 0.5 else \"fake\"\n",
        "\n",
        "        real_prediction = 1 - output.item()\n",
        "        fake_prediction = output.item()\n",
        "\n",
        "        confidences = {\n",
        "            'real': real_prediction,\n",
        "            'fake': fake_prediction\n",
        "        }\n",
        "\n",
        "    return confidences, true_label, face_with_mask"
      ]
    },
    {
      "cell_type": "code",
      "execution_count": null,
      "metadata": {
        "id": "zMeQwYUsKxw1"
      },
      "outputs": [],
      "source": [
        "custom_examples = [\n",
        "    ['/content/drive/MyDrive/PDI/banco de imagens/fake/em-deepfake-no-instagram-mark-zuckerberg-cita-bilhoes-de-dados-roubados-1560354962424_v2_1x1.jpg', 'fake'],\n",
        "    ['/content/drive/MyDrive/PDI/banco de imagens/real/mark.jpg', 'real'],\n",
        "    ['/content/drive/MyDrive/PDI/banco de imagens/fake/papaa.png', 'fake'],\n",
        "    ['/content/drive/MyDrive/PDI/banco de imagens/real/papaaa.png', 'real'],\n",
        "]\n",
        "\n",
        "interface = gr.Interface(\n",
        "    fn=predict,\n",
        "    inputs=[\n",
        "        gr.components.Image(label=\"Coloque sua imagem aqui\", type=\"pil\"),\n",
        "        gr.components.Text(label=\"Digite: Real ou fake?\")\n",
        "    ],\n",
        "    outputs=[\n",
        "        gr.components.Label(label=\"Detector:\"),\n",
        "        gr.components.Text(label=\"Você disse que era:\"),\n",
        "        gr.components.Image(label=\"Eplicação\", type=\"numpy\")\n",
        "    ],\n",
        "    examples=custom_examples,\n",
        "    cache_examples=True,\n",
        "    title=\"IFFAKE - Detecção de DeepFake\"\n",
        ").launch()"
      ]
    }
  ],
  "metadata": {
    "colab": {
      "provenance": [],
      "mount_file_id": "1A5uGnhkS6d0nOjzRxs28x3APeDopF-5k",
      "authorship_tag": "ABX9TyO6Y3tu5733eAszBRaJ/5r9",
      "include_colab_link": true
    },
    "kernelspec": {
      "display_name": "Python 3",
      "name": "python3"
    },
    "language_info": {
      "name": "python"
    }
  },
  "nbformat": 4,
  "nbformat_minor": 0
}